import tkinter as tk
from tkinter import messagebox
import numpy as np
import joblib
import os

# Load the model
model_path = "C:/Users/asus1/Desktop/CGB.joblib"
if not os.path.exists(model_path):
    messagebox.showerror("Error", "Model file not found.")
    exit()

try:
    model = joblib.load(model_path)
except Exception as e:
    messagebox.showerror("Error", f"Failed to load model: {e}")
    exit()

# Initialize window
root = tk.Tk()
root.title("Concrete Strength Predictor")
root.geometry("850x600")
root.configure(bg="#e8f4f8")  # Light blue background

# Title & developer info
tk.Label(root, text="GUI Model for Predicting Concrete Compressive Strength",
         font=("Helvetica", 16, "bold"), bg="#e8f4f8", fg="#003366").pack(pady=10)

tk.Label(root, text="Developed by: Mohamed K. Elshaarawy, Abdelrahman K. Hamed & Mostafa M. Alsaadawi",
         font=("Helvetica", 11), bg="#e8f4f8", fg="#333333").pack(pady=(0, 15))

# Input Panel
input_panel = tk.LabelFrame(root, text="Input Parameters", font=("Helvetica", 13, "bold"),
                            bg="white", fg="#003366", padx=20, pady=20, bd=2, relief="groove")
input_panel.pack(padx=20, pady=10, fill="both")

labels = [
    "X1: Cement (kg/m³)",
    "X2: Blast Furnace Slag (kg/m³)",
    "X3: Fly Ash (kg/m³)",
    "X4: Water (kg/m³)",
    "X5: Superplasticizer (kg/m³)",
    "X6: Coarse Aggregate (kg/m³)",
    "X7: Fine Aggregate (kg/m³)",
    "X8: Age (days)"
]
entries = {}

for i, label in enumerate(labels):
    tk.Label(input_panel, text=label, font=("Helvetica", 11), bg="white", anchor="w", width=30).grid(row=i, column=0, sticky="w", pady=5)
    entry = tk.Entry(input_panel, width=20, font=("Helvetica", 11))
    entry.grid(row=i, column=1, pady=5, padx=10)
    entries[label] = entry

# Output Panel
output_panel = tk.LabelFrame(root, text="Prediction Output", font=("Helvetica", 13, "bold"),
                             bg="white", fg="#003366", padx=20, pady=20, bd=2, relief="groove")
output_panel.pack(padx=20, pady=10, fill="both")

result_var = tk.StringVar()
tk.Label(output_panel, textvariable=result_var, font=("Helvetica", 18, "bold"),
         bg="white", fg="#004d00", wraplength=700, justify="center").pack()

# Prediction logic
def predict():
    try:
        values = []
        for label in labels:
            val = float(entries[label].get())
            if val < 0:
                raise ValueError
            values.append(val)
        prediction = model.predict([values])[0]
        result_var.set(f"Predicted Concrete Strength: {prediction:.2f} MPa")
    except:
        messagebox.showerror("Input Error", "Please enter valid, non-negative numbers for all fields.")

# Predict Button
tk.Button(root, text="Predict Strength", command=predict,
          font=("Helvetica", 12, "bold"), bg="#0073e6", fg="white", padx=20, pady=5).pack(pady=10)

# Run
root.mainloop()
